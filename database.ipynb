{
 "metadata": {
  "name": "",
  "signature": "sha256:8216aab06d6587e6d4c0ad935789f3900b58bee1dd56336c0f686e0dd7bf2991"
 },
 "nbformat": 3,
 "nbformat_minor": 0,
 "worksheets": [
  {
   "cells": [
    {
     "cell_type": "code",
     "collapsed": false,
     "input": [
      "from pages.models import Page\n",
      "import json"
     ],
     "language": "python",
     "metadata": {},
     "outputs": [],
     "prompt_number": 1
    },
    {
     "cell_type": "code",
     "collapsed": false,
     "input": [
      "def dispatch_data(form):\n",
      "    body_ivs = json.loads(form.body_ivs)\n",
      "    testimonial_ivs = json.loads(form.testimonial_ivs)\n",
      "    video_urls = json.loads(form.video_urls)\n",
      "    return body_ivs, testimonial_ivs, video_urls"
     ],
     "language": "python",
     "metadata": {},
     "outputs": [],
     "prompt_number": 66
    },
    {
     "cell_type": "code",
     "collapsed": false,
     "input": [
      "Page.objects.all().filter(header_title='t3').first().header_logo.url"
     ],
     "language": "python",
     "metadata": {},
     "outputs": [
      {
       "metadata": {},
       "output_type": "pyout",
       "prompt_number": 26,
       "text": [
        "'logo.png'"
       ]
      }
     ],
     "prompt_number": 26
    },
    {
     "cell_type": "code",
     "collapsed": false,
     "input": [
      "\n",
      "Page.objects.all()"
     ],
     "language": "python",
     "metadata": {},
     "outputs": [
      {
       "metadata": {},
       "output_type": "pyout",
       "prompt_number": 5,
       "text": [
        "<QuerySet []>"
       ]
      }
     ],
     "prompt_number": 5
    }
   ],
   "metadata": {}
  }
 ]
}