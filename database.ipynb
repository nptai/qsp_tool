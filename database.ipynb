{
 "metadata": {
  "name": "",
  "signature": "sha256:c808c165edb8960960fa80590252552d2ee190ecdb38d51911a10faf533e7203"
 },
 "nbformat": 3,
 "nbformat_minor": 0,
 "worksheets": [
  {
   "cells": [
    {
     "cell_type": "code",
     "collapsed": false,
     "input": [
      "from pages.models import Page\n",
      "import json"
     ],
     "language": "python",
     "metadata": {},
     "outputs": [],
     "prompt_number": 1
    },
    {
     "cell_type": "code",
     "collapsed": false,
     "input": [
      "def dispatch_data(form):\n",
      "    body_ivs = json.loads(form.body_ivs)\n",
      "    testimonial_ivs = json.loads(form.testimonial_ivs)\n",
      "    video_urls = json.loads(form.video_urls)\n",
      "    return body_ivs, testimonial_ivs, video_urls"
     ],
     "language": "python",
     "metadata": {},
     "outputs": [],
     "prompt_number": 66
    },
    {
     "cell_type": "code",
     "collapsed": false,
     "input": [
      "Page.objects.all().filter(header_title='t3').first().header_logo.url"
     ],
     "language": "python",
     "metadata": {},
     "outputs": [
      {
       "metadata": {},
       "output_type": "pyout",
       "prompt_number": 26,
       "text": [
        "'logo.png'"
       ]
      }
     ],
     "prompt_number": 26
    },
    {
     "cell_type": "code",
     "collapsed": false,
     "input": [
      "Page.objects.all().delete()"
     ],
     "language": "python",
     "metadata": {},
     "outputs": [
      {
       "metadata": {},
       "output_type": "pyout",
       "prompt_number": 2,
       "text": [
        "(3, {u'pages.Page': 3})"
       ]
      }
     ],
     "prompt_number": 2
    }
   ],
   "metadata": {}
  }
 ]
}