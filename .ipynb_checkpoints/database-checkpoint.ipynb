{
 "metadata": {
  "name": "",
  "signature": "sha256:ef144644c6e28413aa3b40671b93c7fc419c70d96173e145206d73021597722f"
 },
 "nbformat": 3,
 "nbformat_minor": 0,
 "worksheets": []
}